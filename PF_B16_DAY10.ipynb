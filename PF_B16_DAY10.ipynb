{
 "cells": [
  {
   "cell_type": "code",
   "execution_count": 5,
   "metadata": {},
   "outputs": [
    {
     "name": "stdout",
     "output_type": "stream",
     "text": [
      "Todays topic is:introduction to dictionary data type\n",
      "INTRODUCTION TO DICTIONARY DATA TYPE\n"
     ]
    }
   ],
   "source": [
    "topic= input('Todays topic is:')\n",
    "print(topic.upper())"
   ]
  },
  {
   "cell_type": "code",
   "execution_count": 4,
   "metadata": {},
   "outputs": [
    {
     "name": "stdout",
     "output_type": "stream",
     "text": [
      "{'password', 'username', 'DOB'}\n"
     ]
    }
   ],
   "source": [
    "useraccount = {'username','password','DOB'} #curly braces implies dictionary datatype\n",
    "print (useraccount)"
   ]
  },
  {
   "cell_type": "code",
   "execution_count": 5,
   "metadata": {},
   "outputs": [],
   "source": [
    "username: 'rohit' # key : 'value'\n",
    "password: 'rohit231' # key : 'value'\n",
    "firstname: 'rohit' # key : 'value'\n",
    "lastname: 'pota' # key : 'value'\n",
    "DOB: '27-07-2019' # key : 'value'"
   ]
  },
  {
   "cell_type": "code",
   "execution_count": 6,
   "metadata": {},
   "outputs": [],
   "source": [
    "useraccount = {'username': 'rohit','password': 'rohit231','firstname': 'rohit','lastname': 'pota','DOB': '27-07-2019'}"
   ]
  },
  {
   "cell_type": "code",
   "execution_count": 7,
   "metadata": {},
   "outputs": [
    {
     "name": "stdout",
     "output_type": "stream",
     "text": [
      "{'username': 'rohit', 'password': 'rohit231', 'firstname': 'rohit', 'lastname': 'pota', 'DOB': '27-07-2019'}\n"
     ]
    }
   ],
   "source": [
    "print(useraccount) #input is shown as output"
   ]
  },
  {
   "cell_type": "code",
   "execution_count": 8,
   "metadata": {},
   "outputs": [
    {
     "name": "stdout",
     "output_type": "stream",
     "text": [
      "ROHIT\n"
     ]
    }
   ],
   "source": [
    "#accessing the files in useraccount\n",
    "print(useraccount['firstname'].upper())"
   ]
  },
  {
   "cell_type": "code",
   "execution_count": 10,
   "metadata": {},
   "outputs": [
    {
     "name": "stdout",
     "output_type": "stream",
     "text": [
      "{'username': 'rohit', 'password': 'pota465', 'firstname': 'rohit', 'lastname': 'pota', 'DOB': '27-07-2019'}\n"
     ]
    }
   ],
   "source": [
    "#modifying the details in the useraccount\n",
    "\n",
    "useraccount['password']= 'pota465'\n",
    "print(useraccount)"
   ]
  },
  {
   "cell_type": "code",
   "execution_count": 11,
   "metadata": {},
   "outputs": [
    {
     "name": "stdout",
     "output_type": "stream",
     "text": [
      "{'username': 'rohit', 'firstname': 'rohit', 'lastname': 'pota', 'DOB': '27-07-2019'}\n"
     ]
    }
   ],
   "source": [
    "#delete the details in the useraccount\n",
    "del useraccount['password']\n",
    "print(useraccount)"
   ]
  },
  {
   "cell_type": "code",
   "execution_count": null,
   "metadata": {},
   "outputs": [],
   "source": []
  }
 ],
 "metadata": {
  "kernelspec": {
   "display_name": "Python 3",
   "language": "python",
   "name": "python3"
  },
  "language_info": {
   "codemirror_mode": {
    "name": "ipython",
    "version": 3
   },
   "file_extension": ".py",
   "mimetype": "text/x-python",
   "name": "python",
   "nbconvert_exporter": "python",
   "pygments_lexer": "ipython3",
   "version": "3.7.6"
  }
 },
 "nbformat": 4,
 "nbformat_minor": 4
}
