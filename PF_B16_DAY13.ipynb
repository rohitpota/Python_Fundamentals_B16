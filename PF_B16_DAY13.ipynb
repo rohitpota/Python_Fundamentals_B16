{
 "cells": [
  {
   "cell_type": "code",
   "execution_count": 1,
   "metadata": {},
   "outputs": [
    {
     "name": "stdout",
     "output_type": "stream",
     "text": [
      "TYPES OF ARGUMENTS\n"
     ]
    }
   ],
   "source": [
    "TODAYS_TOPIC = \"TYPES OF ARGUMENTS\"\n",
    "print (TODAYS_TOPIC)"
   ]
  },
  {
   "cell_type": "code",
   "execution_count": 2,
   "metadata": {},
   "outputs": [],
   "source": [
    "def describe_user(username,usergender,userage,usermoonsign):\n",
    "    \"\"\"TO DISPLAY THE USER CHARACTERISTICS\"\"\"\n",
    "    print(f\"I am {username.title()}\")\n",
    "    print(f\"\\nMy gender is a {usergender.title()}\")\n",
    "    print(f\"\\nI am {userage.title()} years old\")\n",
    "    print(f\"\\nMy moon sign is {usermoonsign.title()}.\")"
   ]
  },
  {
   "cell_type": "code",
   "execution_count": 3,
   "metadata": {},
   "outputs": [
    {
     "name": "stdout",
     "output_type": "stream",
     "text": [
      "I am Rohit Pota\n",
      "\n",
      "My gender is a Male\n",
      "\n",
      "I am 20 years old\n",
      "\n",
      "My moon sign is Leo.\n"
     ]
    }
   ],
   "source": [
    "describe_user('rohit pota','male','20','leo')"
   ]
  },
  {
   "cell_type": "code",
   "execution_count": null,
   "metadata": {},
   "outputs": [],
   "source": []
  },
  {
   "cell_type": "code",
   "execution_count": 7,
   "metadata": {},
   "outputs": [
    {
     "name": "stdout",
     "output_type": "stream",
     "text": [
      "I am Rohit\n",
      "\n",
      "My gender is a Pota\n",
      "\n",
      "I am Male years old\n",
      "\n",
      "My moon sign is Leo.\n"
     ]
    }
   ],
   "source": [
    "describe_user(username='rohit',usergender='pota',userage='male',usermoonsign='leo') #Positional argument"
   ]
  },
  {
   "cell_type": "code",
   "execution_count": null,
   "metadata": {},
   "outputs": [],
   "source": []
  },
  {
   "cell_type": "code",
   "execution_count": 8,
   "metadata": {},
   "outputs": [],
   "source": [
    "def describe_user(username,usergender,userage,usermoonsign):\n",
    "    \"\"\"TO DISPLAY THE USER CHARACTERISTICS\"\"\"\n",
    "    print(f\"I am {username.title()}\")\n",
    "    print(f\"\\nMy gender is a {usergender.title()}\")\n",
    "    print(f\"\\nI am {userage.title()} years old\")\n",
    "    print(f\"\\nMy moon sign is {usermoonsign.title()}.\")"
   ]
  },
  {
   "cell_type": "code",
   "execution_count": null,
   "metadata": {},
   "outputs": [],
   "source": []
  },
  {
   "cell_type": "code",
   "execution_count": 9,
   "metadata": {},
   "outputs": [
    {
     "name": "stdout",
     "output_type": "stream",
     "text": [
      "I am Rohit Pota\n",
      "\n",
      "My gender is a Male\n",
      "\n",
      "I am 20 years old\n",
      "\n",
      "My moon sign is Leo.\n"
     ]
    }
   ],
   "source": [
    "describe_user(username='rohit pota', usergender='male', userage='20', usermoonsign= 'leo')"
   ]
  },
  {
   "cell_type": "code",
   "execution_count": null,
   "metadata": {},
   "outputs": [],
   "source": []
  },
  {
   "cell_type": "code",
   "execution_count": 10,
   "metadata": {},
   "outputs": [
    {
     "ename": "NameError",
     "evalue": "name 'rohit' is not defined",
     "output_type": "error",
     "traceback": [
      "\u001b[1;31m---------------------------------------------------------------------------\u001b[0m",
      "\u001b[1;31mNameError\u001b[0m                                 Traceback (most recent call last)",
      "\u001b[1;32m<ipython-input-10-9cedef1d5e5e>\u001b[0m in \u001b[0;36m<module>\u001b[1;34m\u001b[0m\n\u001b[1;32m----> 1\u001b[1;33m \u001b[0mdescribe_user\u001b[0m\u001b[1;33m(\u001b[0m\u001b[0mrohit\u001b[0m\u001b[1;33m)\u001b[0m\u001b[1;33m\u001b[0m\u001b[1;33m\u001b[0m\u001b[0m\n\u001b[0m",
      "\u001b[1;31mNameError\u001b[0m: name 'rohit' is not defined"
     ]
    }
   ],
   "source": [
    "describe_user(rohit) #keyword argument"
   ]
  },
  {
   "cell_type": "code",
   "execution_count": null,
   "metadata": {},
   "outputs": [],
   "source": []
  },
  {
   "cell_type": "code",
   "execution_count": 4,
   "metadata": {},
   "outputs": [],
   "source": [
    "def describe_user(username,userage,usermoonsign,usergender='male'): #Default argument\n",
    "    #In Default argument, you have to enter the fixed parameter at the end of the function\n",
    "    \"\"\"TO DISPLAY THE USER CHARACTERISTICS\"\"\"\n",
    "    print(f\"I am {username.title()}\")\n",
    "    print(f\"\\nMy gender is a {usergender.title()}\")\n",
    "    print(f\"\\nI am {userage.title()} years old\")\n",
    "    print(f\"\\nMy moon sign is {usermoonsign.title()}.\")"
   ]
  },
  {
   "cell_type": "code",
   "execution_count": null,
   "metadata": {},
   "outputs": [],
   "source": []
  },
  {
   "cell_type": "code",
   "execution_count": 5,
   "metadata": {},
   "outputs": [
    {
     "name": "stdout",
     "output_type": "stream",
     "text": [
      "I am Rohit Pota\n",
      "\n",
      "My gender is a Male\n",
      "\n",
      "I am 20 years old\n",
      "\n",
      "My moon sign is Leo.\n"
     ]
    }
   ],
   "source": [
    "describe_user(username='rohit pota', userage='20', usermoonsign= 'leo')"
   ]
  },
  {
   "cell_type": "code",
   "execution_count": null,
   "metadata": {},
   "outputs": [],
   "source": []
  }
 ],
 "metadata": {
  "kernelspec": {
   "display_name": "Python 3",
   "language": "python",
   "name": "python3"
  },
  "language_info": {
   "codemirror_mode": {
    "name": "ipython",
    "version": 3
   },
   "file_extension": ".py",
   "mimetype": "text/x-python",
   "name": "python",
   "nbconvert_exporter": "python",
   "pygments_lexer": "ipython3",
   "version": "3.7.6"
  }
 },
 "nbformat": 4,
 "nbformat_minor": 4
}
