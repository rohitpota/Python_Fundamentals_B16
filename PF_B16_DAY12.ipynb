{
 "cells": [
  {
   "cell_type": "code",
   "execution_count": 1,
   "metadata": {},
   "outputs": [
    {
     "name": "stdout",
     "output_type": "stream",
     "text": [
      "INTRODUCTION TO WHILE LOOPS\n"
     ]
    }
   ],
   "source": [
    "topic = 'introduction to while loops'\n",
    "print(topic.upper())"
   ]
  },
  {
   "cell_type": "code",
   "execution_count": 1,
   "metadata": {},
   "outputs": [],
   "source": [
    "current_num = 0 #Condition to get satisfy"
   ]
  },
  {
   "cell_type": "code",
   "execution_count": 2,
   "metadata": {},
   "outputs": [
    {
     "name": "stdout",
     "output_type": "stream",
     "text": [
      "0\n",
      "1\n",
      "2\n",
      "3\n",
      "4\n",
      "5\n"
     ]
    }
   ],
   "source": [
    "while current_num <=5:\n",
    "    print(current_num)\n",
    "    current_num+=1"
   ]
  },
  {
   "cell_type": "code",
   "execution_count": 4,
   "metadata": {},
   "outputs": [],
   "source": [
    "prompy = \"\\nEnter something I will Repeat it for you:\"\n",
    "\n",
    "prompy += \"\\nEnter 'quit' to end program\""
   ]
  },
  {
   "cell_type": "code",
   "execution_count": 6,
   "metadata": {},
   "outputs": [
    {
     "name": "stdout",
     "output_type": "stream",
     "text": [
      "\n",
      "Enter something I will Repeat it for you:\n",
      "Enter 'quit' to end programhi\n",
      "hi\n",
      "\n",
      "Enter something I will Repeat it for you:\n",
      "Enter 'quit' to end programhello\n",
      "hello\n",
      "\n",
      "Enter something I will Repeat it for you:\n",
      "Enter 'quit' to end programquit\n",
      "quit\n"
     ]
    }
   ],
   "source": [
    "message = ''\n",
    "\n",
    "while message != 'quit':\n",
    "\n",
    "    message = input(prompy)\n",
    "    \n",
    "    print(message)"
   ]
  },
  {
   "cell_type": "markdown",
   "metadata": {},
   "source": []
  },
  {
   "cell_type": "code",
   "execution_count": 7,
   "metadata": {},
   "outputs": [
    {
     "name": "stdout",
     "output_type": "stream",
     "text": [
      "INTODUCTION TO PYTHON FUNCTIONS\n"
     ]
    }
   ],
   "source": [
    "topic = \"intoduction to python functions\"\n",
    "print(topic.upper())"
   ]
  },
  {
   "cell_type": "code",
   "execution_count": null,
   "metadata": {},
   "outputs": [],
   "source": []
  },
  {
   "cell_type": "code",
   "execution_count": 1,
   "metadata": {},
   "outputs": [],
   "source": [
    "def greet_user():\n",
    "    \"\"\"DISPLAY A SIMPLE GREETING MESSAGE TO THE USER\"\"\"\n",
    "    print('Hello!!')"
   ]
  },
  {
   "cell_type": "raw",
   "metadata": {},
   "source": []
  },
  {
   "cell_type": "code",
   "execution_count": 2,
   "metadata": {},
   "outputs": [
    {
     "name": "stdout",
     "output_type": "stream",
     "text": [
      "Hello!!\n"
     ]
    }
   ],
   "source": [
    "greet_user()"
   ]
  },
  {
   "cell_type": "code",
   "execution_count": null,
   "metadata": {},
   "outputs": [],
   "source": []
  },
  {
   "cell_type": "code",
   "execution_count": 3,
   "metadata": {},
   "outputs": [],
   "source": [
    "def greet_user(username):\n",
    "    \"\"\"DISPLAY A SIMPLE GREETING MESSAGE TO THE USER\"\"\"\n",
    "    print(f\"Hello! Good to have you again, {username.title()}\")\n",
    "    "
   ]
  },
  {
   "cell_type": "code",
   "execution_count": 4,
   "metadata": {},
   "outputs": [
    {
     "name": "stdout",
     "output_type": "stream",
     "text": [
      "Hello! Good to have you again, Rohit Pota\n"
     ]
    }
   ],
   "source": [
    "greet_user('rohit pota')"
   ]
  },
  {
   "cell_type": "code",
   "execution_count": 5,
   "metadata": {},
   "outputs": [
    {
     "name": "stdout",
     "output_type": "stream",
     "text": [
      "Hello! Good to have you again, Laharika Mamidi\n"
     ]
    }
   ],
   "source": [
    "greet_user(\"laharika mamidi\")"
   ]
  },
  {
   "cell_type": "code",
   "execution_count": null,
   "metadata": {},
   "outputs": [],
   "source": []
  },
  {
   "cell_type": "code",
   "execution_count": 10,
   "metadata": {},
   "outputs": [],
   "source": [
    "def info_user(username):\n",
    "    \"\"\"DISPLAY AN INFORMATION MESSAGE TO THE USER\"\"\"\n",
    "    print(f\" Hi {username.title()}! Sorry to inform you that the website is under Maintenance,\")\n",
    "    print(f\"\\n Regret for you inconvinience, {username.title()}.\")"
   ]
  },
  {
   "cell_type": "code",
   "execution_count": 11,
   "metadata": {},
   "outputs": [
    {
     "name": "stdout",
     "output_type": "stream",
     "text": [
      " Hi Rohit Pota! Sorry to inform you that the website is under Maintenance,\n",
      "\n",
      " Regret for you inconvinience, Rohit Pota.\n"
     ]
    }
   ],
   "source": [
    "info_user('ROHIT POTA')"
   ]
  },
  {
   "cell_type": "code",
   "execution_count": null,
   "metadata": {},
   "outputs": [],
   "source": []
  }
 ],
 "metadata": {
  "kernelspec": {
   "display_name": "Python 3",
   "language": "python",
   "name": "python3"
  },
  "language_info": {
   "codemirror_mode": {
    "name": "ipython",
    "version": 3
   },
   "file_extension": ".py",
   "mimetype": "text/x-python",
   "name": "python",
   "nbconvert_exporter": "python",
   "pygments_lexer": "ipython3",
   "version": "3.7.6"
  }
 },
 "nbformat": 4,
 "nbformat_minor": 4
}
