{
 "cells": [
  {
   "cell_type": "code",
   "execution_count": null,
   "metadata": {},
   "outputs": [],
   "source": [
    "DAY-5 PYTHON FUNDAMENTALS BY ROHIT POTA"
   ]
  },
  {
   "cell_type": "code",
   "execution_count": null,
   "metadata": {},
   "outputs": [],
   "source": [
    "ORGANISING A LIST"
   ]
  },
  {
   "cell_type": "code",
   "execution_count": 1,
   "metadata": {},
   "outputs": [
    {
     "name": "stdout",
     "output_type": "stream",
     "text": [
      "['fazil', 'mahesh', 'rohit', 'alan', 'laharika', 'varnika', 'bandaa', 'pavan']\n"
     ]
    }
   ],
   "source": [
    "names= ['fazil','mahesh','rohit','alan','laharika','varnika','bandaa','pavan']\n",
    "print(names)"
   ]
  },
  {
   "cell_type": "code",
   "execution_count": 2,
   "metadata": {},
   "outputs": [
    {
     "name": "stdout",
     "output_type": "stream",
     "text": [
      "['alan', 'bandaa', 'fazil', 'laharika', 'mahesh', 'pavan', 'rohit', 'varnika']\n"
     ]
    }
   ],
   "source": [
    "names.sort() #sorting names in alphabetical order A to Z\n",
    "print(names)"
   ]
  },
  {
   "cell_type": "code",
   "execution_count": 6,
   "metadata": {},
   "outputs": [
    {
     "name": "stdout",
     "output_type": "stream",
     "text": [
      "['fazil', 'mahesh', 'rohit', 'alan', 'laharika', 'varnika', 'bandaa', 'pavan', 'faiyaz']\n"
     ]
    }
   ],
   "source": [
    "names= ['fazil','mahesh','rohit','alan','laharika','varnika','bandaa','pavan','faiyaz']\n",
    "print(names)"
   ]
  },
  {
   "cell_type": "code",
   "execution_count": 7,
   "metadata": {},
   "outputs": [
    {
     "name": "stdout",
     "output_type": "stream",
     "text": [
      "['alan', 'bandaa', 'faiyaz', 'fazil', 'laharika', 'mahesh', 'pavan', 'rohit', 'varnika']\n"
     ]
    }
   ],
   "source": [
    "names.sort() #same letter word sorting\n",
    "print(names)"
   ]
  },
  {
   "cell_type": "code",
   "execution_count": null,
   "metadata": {},
   "outputs": [],
   "source": []
  },
  {
   "cell_type": "code",
   "execution_count": 10,
   "metadata": {},
   "outputs": [
    {
     "name": "stdout",
     "output_type": "stream",
     "text": [
      "['fazil', 'mahesh', 'rohit', 'alan', 'laharika', 'varnika', 'bandaa', 'pavan', 'faiyaz']\n"
     ]
    }
   ],
   "source": [
    "names= ['fazil','mahesh','rohit','alan','laharika','varnika','bandaa','pavan','faiyaz']\n",
    "print(names)"
   ]
  },
  {
   "cell_type": "code",
   "execution_count": 11,
   "metadata": {},
   "outputs": [
    {
     "name": "stdout",
     "output_type": "stream",
     "text": [
      "['alan', 'bandaa', 'faiyaz', 'fazil', 'laharika', 'mahesh', 'pavan', 'rohit', 'varnika']\n"
     ]
    }
   ],
   "source": [
    "print(sorted(names)) #temporary sorting using sorted"
   ]
  },
  {
   "cell_type": "code",
   "execution_count": 12,
   "metadata": {},
   "outputs": [
    {
     "name": "stdout",
     "output_type": "stream",
     "text": [
      "['fazil', 'mahesh', 'rohit', 'alan', 'laharika', 'varnika', 'bandaa', 'pavan', 'faiyaz']\n"
     ]
    }
   ],
   "source": [
    "print(names) #back to normal"
   ]
  },
  {
   "cell_type": "code",
   "execution_count": 13,
   "metadata": {},
   "outputs": [
    {
     "name": "stdout",
     "output_type": "stream",
     "text": [
      "['faiyaz', 'pavan', 'bandaa', 'varnika', 'laharika', 'alan', 'rohit', 'mahesh', 'fazil']\n"
     ]
    }
   ],
   "source": [
    "names.reverse() #output of a list in reverse order\n",
    "print(names)"
   ]
  },
  {
   "cell_type": "code",
   "execution_count": 14,
   "metadata": {},
   "outputs": [
    {
     "data": {
      "text/plain": [
       "9"
      ]
     },
     "execution_count": 14,
     "metadata": {},
     "output_type": "execute_result"
    }
   ],
   "source": [
    "len(names)"
   ]
  },
  {
   "cell_type": "code",
   "execution_count": null,
   "metadata": {},
   "outputs": [],
   "source": []
  },
  {
   "cell_type": "code",
   "execution_count": null,
   "metadata": {},
   "outputs": [],
   "source": []
  },
  {
   "cell_type": "code",
   "execution_count": null,
   "metadata": {},
   "outputs": [],
   "source": []
  }
 ],
 "metadata": {
  "kernelspec": {
   "display_name": "Python 3",
   "language": "python",
   "name": "python3"
  },
  "language_info": {
   "codemirror_mode": {
    "name": "ipython",
    "version": 3
   },
   "file_extension": ".py",
   "mimetype": "text/x-python",
   "name": "python",
   "nbconvert_exporter": "python",
   "pygments_lexer": "ipython3",
   "version": "3.7.6"
  }
 },
 "nbformat": 4,
 "nbformat_minor": 4
}
