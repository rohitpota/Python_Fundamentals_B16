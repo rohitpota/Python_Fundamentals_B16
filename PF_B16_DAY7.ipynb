{
 "cells": [
  {
   "cell_type": "code",
   "execution_count": 1,
   "metadata": {},
   "outputs": [
    {
     "name": "stdout",
     "output_type": "stream",
     "text": [
      "Hi! I am rohit pota\n"
     ]
    }
   ],
   "source": [
    "message= \"Hi! I am rohit pota\"\n",
    "print(message)"
   ]
  },
  {
   "cell_type": "code",
   "execution_count": 6,
   "metadata": {},
   "outputs": [
    {
     "name": "stdout",
     "output_type": "stream",
     "text": [
      "INTRODUCTION TO 'IF' CONDITIONAL STATEMENTS\n"
     ]
    }
   ],
   "source": [
    "topic= \"introduction to 'IF' conditional statements\"\n",
    "print (topic.upper())"
   ]
  },
  {
   "cell_type": "code",
   "execution_count": 12,
   "metadata": {},
   "outputs": [
    {
     "name": "stdout",
     "output_type": "stream",
     "text": [
      "['sofa', 'fan', 'tv', 'cupboards', 'teapoy']\n"
     ]
    }
   ],
   "source": [
    "things = ['sofa','fan','tv','cupboards','teapoy']\n",
    "print(things)"
   ]
  },
  {
   "cell_type": "code",
   "execution_count": 17,
   "metadata": {},
   "outputs": [
    {
     "name": "stdout",
     "output_type": "stream",
     "text": [
      "Sofa can be found in a living room.\n",
      "\n",
      "Fan can be found in a living room.\n",
      "\n",
      "TV can be found in a living room.\n",
      "\n",
      "Cupboards can be found in a living room.\n",
      "\n",
      "Teapoy can be found in a living room.\n",
      "\n"
     ]
    }
   ],
   "source": [
    "for thing in things:\n",
    "    if thing=='tv':\n",
    "        print (f\"{thing.upper()} can be found in a living room.\\n\")\n",
    "    else:\n",
    "        print (f\"{thing.title()} can be found in a living room.\\n\")"
   ]
  },
  {
   "cell_type": "code",
   "execution_count": 19,
   "metadata": {},
   "outputs": [
    {
     "name": "stdout",
     "output_type": "stream",
     "text": [
      "Topic:User Accepted Input Code\n"
     ]
    }
   ],
   "source": [
    "next_topic='topic:user accepted input code'\n",
    "print(next_topic.title())"
   ]
  },
  {
   "cell_type": "code",
   "execution_count": 22,
   "metadata": {},
   "outputs": [
    {
     "name": "stdout",
     "output_type": "stream",
     "text": [
      "1. username:ROPO\n",
      "2. password:ROHit321\n",
      "3. first name:rohit\n",
      "4. last name:pota\n",
      "\n",
      " Your username is ropo\n",
      "\n",
      " Your username is ROHit321\n",
      "\n",
      " Your First name is Rohit\n",
      "\n",
      " Your last name is Pota\n",
      "\n",
      " Your Full name is ROHIT POTA\n"
     ]
    }
   ],
   "source": [
    "username= input('1. username:')\n",
    "password= input('2. password:')\n",
    "first_name= input('3. first name:')\n",
    "last_name=input('4. last name:')\n",
    "full_name= f\"{first_name} {last_name}\"\n",
    "print(f\"\\n Your username is {username.lower()}\")\n",
    "print(f\"\\n Your username is {password}\")\n",
    "print(f\"\\n Your First name is {first_name.title()}\")\n",
    "print(f\"\\n Your last name is {last_name.title()}\")\n",
    "print(f\"\\n Your Full name is {full_name.upper()}\")"
   ]
  },
  {
   "cell_type": "code",
   "execution_count": null,
   "metadata": {},
   "outputs": [],
   "source": [
    "topic3= 'accepting integer as input'\n",
    "print(topic3.upper())"
   ]
  },
  {
   "cell_type": "code",
   "execution_count": 24,
   "metadata": {},
   "outputs": [
    {
     "name": "stdout",
     "output_type": "stream",
     "text": [
      "Enter your weight:50\n",
      "50\n"
     ]
    }
   ],
   "source": [
    "weight= input('Enter your weight:')\n",
    "print(weight)"
   ]
  },
  {
   "cell_type": "code",
   "execution_count": 25,
   "metadata": {},
   "outputs": [
    {
     "data": {
      "text/plain": [
       "False"
      ]
     },
     "execution_count": 25,
     "metadata": {},
     "output_type": "execute_result"
    }
   ],
   "source": [
    "weight=int(weight)\n",
    "weight>=65"
   ]
  },
  {
   "cell_type": "code",
   "execution_count": 26,
   "metadata": {},
   "outputs": [
    {
     "data": {
      "text/plain": [
       "int"
      ]
     },
     "execution_count": 26,
     "metadata": {},
     "output_type": "execute_result"
    }
   ],
   "source": [
    "type(weight)"
   ]
  },
  {
   "cell_type": "code",
   "execution_count": null,
   "metadata": {},
   "outputs": [],
   "source": []
  },
  {
   "cell_type": "code",
   "execution_count": 28,
   "metadata": {},
   "outputs": [
    {
     "name": "stdout",
     "output_type": "stream",
     "text": [
      "last topic for today is:A CASE STUDY ON VALID ENTRY APPLICATION\n",
      "A CASE STUDY ON VALID ENTRY APPLICATION\n"
     ]
    }
   ],
   "source": [
    "final_topic= input(\"last topic for today is:\")\n",
    "print(final_topic)\n"
   ]
  },
  {
   "cell_type": "code",
   "execution_count": null,
   "metadata": {},
   "outputs": [],
   "source": [
    "req: A person entering a pub required to prove age more than 21 using his 12 digit aadharcard number"
   ]
  },
  {
   "cell_type": "code",
   "execution_count": 3,
   "metadata": {},
   "outputs": [
    {
     "name": "stdout",
     "output_type": "stream",
     "text": [
      "Enter Your Age:20\n",
      "You are under age\n"
     ]
    }
   ],
   "source": [
    "age = input(\"Enter Your Age:\")\n",
    "age = int(age)\n",
    "if(age<=20):\n",
    "    print(\"You are under age\")\n",
    "else:\n",
    "    aadhar_no = input (\"Enter Your 16 digits Aadhar Card No.:\")\n",
    "    aadhar_no = int(aadhar_no)\n",
    "    \n",
    "    if(aadhar_no<=5555555555555555):\n",
    "        print(\"verified and allowed\")\n",
    "    else:\n",
    "        print(\"verifed and not allowed\")"
   ]
  },
  {
   "cell_type": "code",
   "execution_count": 9,
   "metadata": {},
   "outputs": [
    {
     "name": "stdout",
     "output_type": "stream",
     "text": [
      "Enter Your Age:21\n",
      "Enter Your 16 digits Aadhar Card No.:444444444444444444444444444444444444\n",
      "verifed and not allowed\n"
     ]
    }
   ],
   "source": [
    "age = input(\"Enter Your Age:\")\n",
    "age = int(age)\n",
    "if(age<=20):\n",
    "    print(\"You are under age\")\n",
    "else:\n",
    "    aadhar_no = input (\"Enter Your 16 digits Aadhar Card No.:\")\n",
    "    aadhar_no = int(aadhar_no)\n",
    "    \n",
    "    if(aadhar_no<=5555555555555555):\n",
    "        print(\"verified and allowed\")\n",
    "    else:\n",
    "        print(\"verifed and not allowed\")"
   ]
  },
  {
   "cell_type": "code",
   "execution_count": null,
   "metadata": {},
   "outputs": [],
   "source": []
  },
  {
   "cell_type": "code",
   "execution_count": null,
   "metadata": {},
   "outputs": [],
   "source": []
  },
  {
   "cell_type": "code",
   "execution_count": 8,
   "metadata": {},
   "outputs": [
    {
     "name": "stdout",
     "output_type": "stream",
     "text": [
      "Enter Your Age:21\n",
      "Enter Your 16 digits Aadhar Card No.:555555555555555555555555556\n",
      "verified and allowed\n"
     ]
    }
   ],
   "source": [
    "age = input(\"Enter Your Age:\")\n",
    "age = int(age)\n",
    "if(age<=20):\n",
    "    print(\"You are under age\")\n",
    "else:\n",
    "    aadhar_no = input (\"Enter Your 16 digits Aadhar Card No.:\")\n",
    "    aadhar_no = int(aadhar_no)\n",
    "    \n",
    "    if(aadhar_no>=5555555555555555):\n",
    "        print(\"verified and allowed\")\n",
    "    else:\n",
    "        print(\"verried and not allowed\")\n",
    "    "
   ]
  },
  {
   "cell_type": "code",
   "execution_count": null,
   "metadata": {},
   "outputs": [],
   "source": []
  },
  {
   "cell_type": "code",
   "execution_count": null,
   "metadata": {},
   "outputs": [],
   "source": []
  },
  {
   "cell_type": "code",
   "execution_count": null,
   "metadata": {},
   "outputs": [],
   "source": []
  },
  {
   "cell_type": "code",
   "execution_count": null,
   "metadata": {},
   "outputs": [],
   "source": []
  }
 ],
 "metadata": {
  "kernelspec": {
   "display_name": "Python 3",
   "language": "python",
   "name": "python3"
  },
  "language_info": {
   "codemirror_mode": {
    "name": "ipython",
    "version": 3
   },
   "file_extension": ".py",
   "mimetype": "text/x-python",
   "name": "python",
   "nbconvert_exporter": "python",
   "pygments_lexer": "ipython3",
   "version": "3.7.6"
  }
 },
 "nbformat": 4,
 "nbformat_minor": 4
}
