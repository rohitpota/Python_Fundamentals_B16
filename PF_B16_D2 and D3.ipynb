{
 "cells": [
  {
   "cell_type": "code",
   "execution_count": 6,
   "metadata": {},
   "outputs": [
    {
     "name": "stdout",
     "output_type": "stream",
     "text": [
      "Fav_languages:\n",
      "\tpython\n",
      "\tjava\n",
      "\tc\n",
      "\tc\n"
     ]
    }
   ],
   "source": [
    "print(\"Fav_languages:\\n\\tpython\\n\\tjava\\n\\tc\\n\\tc\") #Double quotes are given at start and end (\\n followed by \\t)"
   ]
  },
  {
   "cell_type": "code",
   "execution_count": 10,
   "metadata": {},
   "outputs": [
    {
     "name": "stdout",
     "output_type": "stream",
     "text": [
      "Fav_languages: \n",
      "\tpython \n",
      "\tjava \n",
      "\tc \n",
      "\tc++\n"
     ]
    }
   ],
   "source": [
    "print('Fav_languages:','\\n\\tpython','\\n\\tjava','\\n\\tc','\\n\\tc++') #Single quotes are given for each term"
   ]
  },
  {
   "cell_type": "code",
   "execution_count": 9,
   "metadata": {},
   "outputs": [
    {
     "name": "stdout",
     "output_type": "stream",
     "text": [
      "Fav_languages: \n",
      "\tpython \n",
      "\tjava \n",
      "\tc \n",
      "\tc++\n"
     ]
    }
   ],
   "source": [
    "print(\"Fav_languages:\",\"\\n\\tpython\",\"\\n\\tjava\",\"\\n\\tc\",\"\\n\\tc++\") #Double quotes are given for each term"
   ]
  },
  {
   "cell_type": "code",
   "execution_count": 12,
   "metadata": {},
   "outputs": [
    {
     "name": "stdout",
     "output_type": "stream",
     "text": [
      "Fav_languages:\n",
      "\tpython\n",
      "\tjava\n",
      "\tc\n",
      "\tc\n"
     ]
    }
   ],
   "source": [
    "print('Fav_languages:\\n\\tpython\\n\\tjava\\n\\tc\\n\\tc') #single quotes are given at start and end"
   ]
  },
  {
   "cell_type": "code",
   "execution_count": 13,
   "metadata": {},
   "outputs": [
    {
     "name": "stdout",
     "output_type": "stream",
     "text": [
      "Fav_languages:\t\n",
      "python\t\n",
      "java\t\n",
      "c\t\n",
      "c\n"
     ]
    }
   ],
   "source": [
    "print('Fav_languages:\\t\\npython\\t\\njava\\t\\nc\\t\\nc') # (\\t followed by \\n)"
   ]
  },
  {
   "cell_type": "code",
   "execution_count": 27,
   "metadata": {},
   "outputs": [
    {
     "name": "stdout",
     "output_type": "stream",
     "text": [
      "python java c++ ruby\n"
     ]
    }
   ],
   "source": [
    "Fav_lang1=\"python\"\n",
    "Fav_lang2=\"java\"\n",
    "Fav_lang3=\"c++\"\n",
    "Fav_lang4=\"ruby\"\n",
    "Fav_lang = f\"{Fav_lang1} {Fav_lang2} {Fav_lang3} {Fav_lang4}\"\n",
    "print(Fav_lang)"
   ]
  },
  {
   "cell_type": "code",
   "execution_count": 28,
   "metadata": {},
   "outputs": [
    {
     "name": "stdout",
     "output_type": "stream",
     "text": [
      "Python Java C++ Ruby\n"
     ]
    }
   ],
   "source": [
    "print(Fav_lang.title()) #enhancement of code title format"
   ]
  },
  {
   "cell_type": "code",
   "execution_count": 29,
   "metadata": {},
   "outputs": [
    {
     "name": "stdout",
     "output_type": "stream",
     "text": [
      "PYTHON JAVA C++ RUBY\n"
     ]
    }
   ],
   "source": [
    "print(Fav_lang.upper()) #enhancement of code CAPS format"
   ]
  },
  {
   "cell_type": "code",
   "execution_count": 30,
   "metadata": {},
   "outputs": [
    {
     "name": "stdout",
     "output_type": "stream",
     "text": [
      "python java c++ ruby\n"
     ]
    }
   ],
   "source": [
    "print(Fav_lang.lower()) #enhancement of code lower case format"
   ]
  },
  {
   "cell_type": "code",
   "execution_count": 35,
   "metadata": {},
   "outputs": [
    {
     "name": "stdout",
     "output_type": "stream",
     "text": [
      "I love these langugages,\t\n",
      "python\t\n",
      " java\t\n",
      " c++\t\n",
      " ruby\n"
     ]
    }
   ],
   "source": [
    "Fav_lang = f\"\\t\\n{Fav_lang1}\\t\\n {Fav_lang2}\\t\\n {Fav_lang3}\\t\\n {Fav_lang4}\"\n",
    "message= f\"I love these langugages,{Fav_lang}\"\n",
    "print(message)"
   ]
  },
  {
   "cell_type": "code",
   "execution_count": 38,
   "metadata": {},
   "outputs": [
    {
     "name": "stdout",
     "output_type": "stream",
     "text": [
      "I love these langugages,\tpython\t java\tc++\truby\n"
     ]
    }
   ],
   "source": [
    "Fav_lang = f\"\\t{Fav_lang1}\\t {Fav_lang2}\\t{Fav_lang3}\\t{Fav_lang4}\"\n",
    "message= f\"I love these langugages,{Fav_lang}\"\n",
    "print(message)"
   ]
  },
  {
   "cell_type": "code",
   "execution_count": 50,
   "metadata": {},
   "outputs": [
    {
     "name": "stdout",
     "output_type": "stream",
     "text": [
      "I love these langugages,\n",
      "python\n",
      "\n",
      "\tjava\n",
      "\n",
      "\t\tc++\n",
      "\n",
      "\t\t\truby\n"
     ]
    }
   ],
   "source": [
    "Fav_lang = f\"\\n{Fav_lang1}\\n\\n\\t{Fav_lang2}\\n\\n\\t\\t{Fav_lang3}\\n\\n\\t\\t\\t{Fav_lang4}\" #JUSTFORFUN\n",
    "message= f\"I love these langugages,{Fav_lang}\"\n",
    "print(message)"
   ]
  },
  {
   "cell_type": "code",
   "execution_count": 51,
   "metadata": {},
   "outputs": [
    {
     "data": {
      "text/plain": [
       "str"
      ]
     },
     "execution_count": 51,
     "metadata": {},
     "output_type": "execute_result"
    }
   ],
   "source": [
    "type(Fav_lang)"
   ]
  },
  {
   "cell_type": "code",
   "execution_count": 52,
   "metadata": {},
   "outputs": [
    {
     "data": {
      "text/plain": [
       "str"
      ]
     },
     "execution_count": 52,
     "metadata": {},
     "output_type": "execute_result"
    }
   ],
   "source": [
    "type(Fav_lang2)"
   ]
  },
  {
   "cell_type": "code",
   "execution_count": 56,
   "metadata": {},
   "outputs": [
    {
     "name": "stdout",
     "output_type": "stream",
     "text": [
      "pota  rohit\n"
     ]
    }
   ],
   "source": [
    "surname=\"pota\"\n",
    "middlename=\"\"\n",
    "firstname= \"rohit\"\n",
    "fullname1= f\"{surname} {middlename} {firstname}\"\n",
    "fullname2=f\"{firstname} {middlename} {surname}\"\n",
    "print(fullname1)"
   ]
  },
  {
   "cell_type": "code",
   "execution_count": 57,
   "metadata": {},
   "outputs": [
    {
     "name": "stdout",
     "output_type": "stream",
     "text": [
      "Pota  Rohit\n"
     ]
    }
   ],
   "source": [
    "#enhancement of code to title,upper and lower cases\n",
    "print(fullname1.title())"
   ]
  },
  {
   "cell_type": "code",
   "execution_count": 58,
   "metadata": {},
   "outputs": [
    {
     "name": "stdout",
     "output_type": "stream",
     "text": [
      "ROHIT  POTA\n"
     ]
    }
   ],
   "source": [
    "print(fullname2.upper())"
   ]
  },
  {
   "cell_type": "code",
   "execution_count": 59,
   "metadata": {},
   "outputs": [
    {
     "name": "stdout",
     "output_type": "stream",
     "text": [
      "rohit  pota\n"
     ]
    }
   ],
   "source": [
    "print(fullname2.lower())"
   ]
  },
  {
   "cell_type": "code",
   "execution_count": null,
   "metadata": {},
   "outputs": [],
   "source": []
  }
 ],
 "metadata": {
  "kernelspec": {
   "display_name": "Python 3",
   "language": "python",
   "name": "python3"
  },
  "language_info": {
   "codemirror_mode": {
    "name": "ipython",
    "version": 3
   },
   "file_extension": ".py",
   "mimetype": "text/x-python",
   "name": "python",
   "nbconvert_exporter": "python",
   "pygments_lexer": "ipython3",
   "version": "3.7.6"
  }
 },
 "nbformat": 4,
 "nbformat_minor": 4
}
