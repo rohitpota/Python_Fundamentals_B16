{
 "cells": [
  {
   "cell_type": "code",
   "execution_count": null,
   "metadata": {},
   "outputs": [],
   "source": [
    "DAY-4 PYTHON FUNDAMENTALS B16 ROHIT POTA"
   ]
  },
  {
   "cell_type": "code",
   "execution_count": null,
   "metadata": {},
   "outputs": [],
   "source": [
    "LISTS"
   ]
  },
  {
   "cell_type": "code",
   "execution_count": 2,
   "metadata": {},
   "outputs": [
    {
     "name": "stdout",
     "output_type": "stream",
     "text": [
      "['soap', 'shampoo', 'oil', 'detergent', 'snacks', 'tissues']\n"
     ]
    }
   ],
   "source": [
    "grocery= ['soap','shampoo','oil','detergent','snacks','tissues'] #creating a list\n",
    "print(grocery)"
   ]
  },
  {
   "cell_type": "code",
   "execution_count": 3,
   "metadata": {},
   "outputs": [
    {
     "name": "stdout",
     "output_type": "stream",
     "text": [
      "oil\n"
     ]
    }
   ],
   "source": [
    "print(grocery[2]) #picking up a specific element"
   ]
  },
  {
   "cell_type": "code",
   "execution_count": 4,
   "metadata": {},
   "outputs": [
    {
     "ename": "IndexError",
     "evalue": "list index out of range",
     "output_type": "error",
     "traceback": [
      "\u001b[1;31m---------------------------------------------------------------------------\u001b[0m",
      "\u001b[1;31mIndexError\u001b[0m                                Traceback (most recent call last)",
      "\u001b[1;32m<ipython-input-4-75ca344bcf5f>\u001b[0m in \u001b[0;36m<module>\u001b[1;34m\u001b[0m\n\u001b[1;32m----> 1\u001b[1;33m \u001b[0mprint\u001b[0m\u001b[1;33m(\u001b[0m\u001b[0mgrocery\u001b[0m\u001b[1;33m[\u001b[0m\u001b[1;36m6\u001b[0m\u001b[1;33m]\u001b[0m\u001b[1;33m)\u001b[0m\u001b[1;33m\u001b[0m\u001b[1;33m\u001b[0m\u001b[0m\n\u001b[0m",
      "\u001b[1;31mIndexError\u001b[0m: list index out of range"
     ]
    }
   ],
   "source": [
    "print(grocery[6]) #picking up an element with a index which is not there in the list"
   ]
  },
  {
   "cell_type": "code",
   "execution_count": 5,
   "metadata": {},
   "outputs": [
    {
     "name": "stdout",
     "output_type": "stream",
     "text": [
      "soap\n"
     ]
    }
   ],
   "source": [
    "print(grocery[0]) #picking up an element with index"
   ]
  },
  {
   "cell_type": "code",
   "execution_count": 6,
   "metadata": {},
   "outputs": [
    {
     "name": "stdout",
     "output_type": "stream",
     "text": [
      "['soap', 'icecream', 'oil', 'detergent', 'snacks', 'tissues']\n"
     ]
    }
   ],
   "source": [
    "grocery= ['soap','shampoo','oil','detergent','snacks','tissues']\n",
    "grocery[1]='icecream' #substituting shampoo with icecream\n",
    "print(grocery)"
   ]
  },
  {
   "cell_type": "code",
   "execution_count": 7,
   "metadata": {},
   "outputs": [
    {
     "name": "stdout",
     "output_type": "stream",
     "text": [
      "['soap', 'icecream', 'oil', 'detergent', 'snacks', 'tissues', 'chocolates']\n"
     ]
    }
   ],
   "source": [
    "grocery.append('chocolates') #adding element to the list\n",
    "print(grocery)"
   ]
  },
  {
   "cell_type": "code",
   "execution_count": 8,
   "metadata": {},
   "outputs": [
    {
     "name": "stdout",
     "output_type": "stream",
     "text": [
      "['soap', 'icecream', 'oil', 'detergent', 'panner', 'snacks', 'tissues', 'chocolates']\n"
     ]
    }
   ],
   "source": [
    "grocery.insert(4,'panner') #adding element to the specific index of the list\n",
    "print(grocery)"
   ]
  },
  {
   "cell_type": "code",
   "execution_count": 9,
   "metadata": {},
   "outputs": [
    {
     "name": "stdout",
     "output_type": "stream",
     "text": [
      "['soap', 'icecream', 'detergent', 'panner', 'snacks', 'tissues', 'chocolates']\n"
     ]
    }
   ],
   "source": [
    "del grocery[2] #deleting a specific element in the list using index\n",
    "print(grocery)"
   ]
  },
  {
   "cell_type": "code",
   "execution_count": 10,
   "metadata": {},
   "outputs": [
    {
     "name": "stdout",
     "output_type": "stream",
     "text": [
      "['soap', 'icecream', 'detergent', 'panner', 'snacks', 'tissues']\n"
     ]
    }
   ],
   "source": [
    "grocery.pop() #deleting the last element in the list using pop method\n",
    "print(grocery)"
   ]
  },
  {
   "cell_type": "code",
   "execution_count": 11,
   "metadata": {},
   "outputs": [
    {
     "name": "stdout",
     "output_type": "stream",
     "text": [
      "['soap', 'icecream', 'detergent', 'panner', 'snacks']\n"
     ]
    }
   ],
   "source": [
    "grocery.pop(5) #deleting a specific element using pop method\n",
    "print(grocery)"
   ]
  },
  {
   "cell_type": "code",
   "execution_count": 15,
   "metadata": {},
   "outputs": [
    {
     "name": "stdout",
     "output_type": "stream",
     "text": [
      "chocolates\n"
     ]
    }
   ],
   "source": [
    "grocery= ['soap', 'icecream', 'oil', 'detergent', 'panner', 'snacks', 'tissues', 'chocolates']\n",
    "g=grocery.pop() #storing the popped out value temporarily\n",
    "print(g)"
   ]
  },
  {
   "cell_type": "code",
   "execution_count": 16,
   "metadata": {},
   "outputs": [
    {
     "name": "stdout",
     "output_type": "stream",
     "text": [
      "['soap', 'icecream', 'oil', 'detergent', 'panner', 'snacks', 'tissues']\n"
     ]
    }
   ],
   "source": [
    "print(grocery)"
   ]
  },
  {
   "cell_type": "code",
   "execution_count": null,
   "metadata": {},
   "outputs": [],
   "source": []
  }
 ],
 "metadata": {
  "kernelspec": {
   "display_name": "Python 3",
   "language": "python",
   "name": "python3"
  },
  "language_info": {
   "codemirror_mode": {
    "name": "ipython",
    "version": 3
   },
   "file_extension": ".py",
   "mimetype": "text/x-python",
   "name": "python",
   "nbconvert_exporter": "python",
   "pygments_lexer": "ipython3",
   "version": "3.7.6"
  }
 },
 "nbformat": 4,
 "nbformat_minor": 4
}
